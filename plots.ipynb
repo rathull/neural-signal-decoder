{
 "cells": [
  {
   "cell_type": "markdown",
   "metadata": {},
   "source": [
    "# Neural Trajectory Decoder"
   ]
  },
  {
   "cell_type": "code",
   "execution_count": 138,
   "metadata": {},
   "outputs": [],
   "source": [
    "# Imports\n",
    "import numpy as np\n",
    "import matplotlib.pyplot as plt\n",
    "from scipy import sparse\n",
    "from scipy.io import loadmat\n",
    "import pandas as pd"
   ]
  },
  {
   "cell_type": "markdown",
   "metadata": {},
   "source": [
    "## Data\n",
    "Load and visualize data"
   ]
  },
  {
   "cell_type": "markdown",
   "metadata": {},
   "source": [
    "### Load and Format"
   ]
  },
  {
   "cell_type": "code",
   "execution_count": 139,
   "metadata": {},
   "outputs": [],
   "source": [
    "# Load data\n",
    "data = loadmat(\"./data/JR_2015-12-04_truncated2.mat\")"
   ]
  },
  {
   "cell_type": "code",
   "execution_count": 140,
   "metadata": {},
   "outputs": [
    {
     "data": {
      "text/plain": [
       "(506,)"
      ]
     },
     "execution_count": 140,
     "metadata": {},
     "output_type": "execute_result"
    }
   ],
   "source": [
    "# Extract data field\n",
    "R = data[\"R\"][0]\n",
    "R.shape"
   ]
  },
  {
   "cell_type": "markdown",
   "metadata": {},
   "source": [
    "`R` is $1\\times 506$ array of structures with the following fields:\n",
    "\n",
    "- `startDateNum`\n",
    "- `startDateStr`\n",
    "- `timeTargetOn`\n",
    "- `timeTargetAcquire`\n",
    "- `timeTargetHeld`\n",
    "- `timeTrialEnd`\n",
    "- `subject`\n",
    "- `counter`\n",
    "- `state`\n",
    "- `cursorPos`\n",
    "- `spikeRaster`\n",
    "- `spikeRaster2`\n",
    "- `isSuccessful`\n",
    "- `trialNum`\n",
    "- `timeFirstTargetAcquire`\n",
    "- `timeLastTargetAcquire`\n",
    "- `trialLength`\n",
    "- `target`\n",
    "\n",
    "We'll convert this to a dataframe for a more Pythonic representation. Each field will become a column with each row corresponding to an individual entry in `R`."
   ]
  },
  {
   "cell_type": "code",
   "execution_count": 141,
   "metadata": {},
   "outputs": [],
   "source": [
    "def clean_matlab_row(record):\n",
    "    cleaned_row = {\n",
    "        # Convert MATLAB datenum (days since 0000-01-00) to simple float\n",
    "        'startDateNum': record['startDateNum'].item() if record['startDateNum'].size == 1 else record['startDateNum'],\n",
    "        \n",
    "        # Extract string from string array, removing unnecessary nesting\n",
    "        'startDateStr': record['startDateStr'].item() if record['startDateStr'].size == 1 else record['startDateStr'],\n",
    "        \n",
    "        # Convert single-element arrays to scalar values\n",
    "        'timeTargetOn': record['timeTargetOn'].item(),  # array([[21]]) -> 21\n",
    "        'timeTargetAcquire': record['timeTargetAcquire'][0],  # Alternative way to get first element\n",
    "        'timeTargetHeld': record['timeTargetHeld'].item(),\n",
    "        'timeTrialEnd': record['timeTrialEnd'].item(),\n",
    "        \n",
    "        # Extract string value from array\n",
    "        'subject': record['subject'].item(),  # array([['MonkeyJ']]) -> 'MonkeyJ'\n",
    "        \n",
    "        # Keep arrays for multi-value fields\n",
    "        'counter': record['counter'][0],  # Keep as array if multiple values needed\n",
    "        'state': record['state'][0],\n",
    "        \n",
    "        # Preserve multi-dimensional arrays\n",
    "        'cursorPos': record['cursorPos'],  # 3xN array of positions\n",
    "        \n",
    "        # Keep sparse matrices as is (for efficiency)\n",
    "        'spikeRaster': record['spikeRaster'],  # 96xT sparse binary matrix\n",
    "        'spikeRaster2': record['spikeRaster2'],\n",
    "        \n",
    "        # Convert boolean arrays to simple Python booleans\n",
    "        'isSuccessful': record['isSuccessful'].item() == 1,  # array([[True]]) -> True\n",
    "        \n",
    "        # Convert numeric arrays to simple Python numbers\n",
    "        'trialNum': record['trialNum'].item(),\n",
    "        'timeFirstTargetAcquire': record['timeFirstTargetAcquire'].item(),\n",
    "        'timeLastTargetAcquire': record['timeLastTargetAcquire'].item(),\n",
    "        'trialLength': record['trialLength'].item(),\n",
    "        \n",
    "        # Keep target coordinates as array\n",
    "        'target': [i.item() for i in record['target']],  # 3x1 array [x,y,z]\n",
    "    }\n",
    "    return cleaned_row"
   ]
  },
  {
   "cell_type": "code",
   "execution_count": 142,
   "metadata": {},
   "outputs": [],
   "source": [
    "rows = []\n",
    "for record in R:\n",
    "    cleaned_row = clean_matlab_row(record)\n",
    "    rows.append(cleaned_row)"
   ]
  },
  {
   "cell_type": "code",
   "execution_count": 143,
   "metadata": {},
   "outputs": [],
   "source": [
    "df = pd.DataFrame(rows)"
   ]
  },
  {
   "cell_type": "code",
   "execution_count": 144,
   "metadata": {},
   "outputs": [
    {
     "data": {
      "text/html": [
       "<div>\n",
       "<style scoped>\n",
       "    .dataframe tbody tr th:only-of-type {\n",
       "        vertical-align: middle;\n",
       "    }\n",
       "\n",
       "    .dataframe tbody tr th {\n",
       "        vertical-align: top;\n",
       "    }\n",
       "\n",
       "    .dataframe thead th {\n",
       "        text-align: right;\n",
       "    }\n",
       "</style>\n",
       "<table border=\"1\" class=\"dataframe\">\n",
       "  <thead>\n",
       "    <tr style=\"text-align: right;\">\n",
       "      <th></th>\n",
       "      <th>startDateNum</th>\n",
       "      <th>startDateStr</th>\n",
       "      <th>timeTargetOn</th>\n",
       "      <th>timeTargetAcquire</th>\n",
       "      <th>timeTargetHeld</th>\n",
       "      <th>timeTrialEnd</th>\n",
       "      <th>subject</th>\n",
       "      <th>counter</th>\n",
       "      <th>state</th>\n",
       "      <th>cursorPos</th>\n",
       "      <th>spikeRaster</th>\n",
       "      <th>spikeRaster2</th>\n",
       "      <th>isSuccessful</th>\n",
       "      <th>trialNum</th>\n",
       "      <th>timeFirstTargetAcquire</th>\n",
       "      <th>timeLastTargetAcquire</th>\n",
       "      <th>trialLength</th>\n",
       "      <th>target</th>\n",
       "    </tr>\n",
       "  </thead>\n",
       "  <tbody>\n",
       "    <tr>\n",
       "      <th>0</th>\n",
       "      <td>736302.569023</td>\n",
       "      <td>2015-12-04 13:39:23</td>\n",
       "      <td>21</td>\n",
       "      <td>[362]</td>\n",
       "      <td>862</td>\n",
       "      <td>882</td>\n",
       "      <td>JenkinsC</td>\n",
       "      <td>[763564, 763565, 763566, 763567, 763568, 76356...</td>\n",
       "      <td>[2, 2, 2, 2, 2, 2, 2, 2, 2, 2, 2, 2, 2, 2, 2, ...</td>\n",
       "      <td>[[81.97, 81.97, 81.97, 81.97, 81.97, 81.97, 81...</td>\n",
       "      <td>(np.int32(67), np.int32(0))\\t1.0\\n  (np.int3...</td>\n",
       "      <td>(np.int32(49), np.int32(0))\\t1.0\\n  (np.int3...</td>\n",
       "      <td>True</td>\n",
       "      <td>420</td>\n",
       "      <td>362</td>\n",
       "      <td>362</td>\n",
       "      <td>862</td>\n",
       "      <td>[0, 0, -70]</td>\n",
       "    </tr>\n",
       "    <tr>\n",
       "      <th>1</th>\n",
       "      <td>736302.569033</td>\n",
       "      <td>2015-12-04 13:39:24</td>\n",
       "      <td>21</td>\n",
       "      <td>[478]</td>\n",
       "      <td>978</td>\n",
       "      <td>998</td>\n",
       "      <td>JenkinsC</td>\n",
       "      <td>[764465, 764466, 764467, 764468, 764469, 76447...</td>\n",
       "      <td>[2, 2, 2, 2, 2, 2, 2, 2, 2, 2, 2, 2, 2, 2, 2, ...</td>\n",
       "      <td>[[1.73, 1.73, 1.73, 1.73, 1.73, 1.73, 1.73, 1....</td>\n",
       "      <td>(np.int32(39), np.int32(0))\\t1.0\\n  (np.int3...</td>\n",
       "      <td>(np.int32(19), np.int32(0))\\t1.0\\n  (np.int3...</td>\n",
       "      <td>True</td>\n",
       "      <td>421</td>\n",
       "      <td>478</td>\n",
       "      <td>478</td>\n",
       "      <td>978</td>\n",
       "      <td>[0, -120, -70]</td>\n",
       "    </tr>\n",
       "    <tr>\n",
       "      <th>2</th>\n",
       "      <td>736302.569045</td>\n",
       "      <td>2015-12-04 13:39:25</td>\n",
       "      <td>21</td>\n",
       "      <td>[411]</td>\n",
       "      <td>911</td>\n",
       "      <td>931</td>\n",
       "      <td>JenkinsC</td>\n",
       "      <td>[765482, 765483, 765484, 765485, 765486, 76548...</td>\n",
       "      <td>[2, 2, 2, 2, 2, 2, 2, 2, 2, 2, 2, 2, 2, 2, 2, ...</td>\n",
       "      <td>[[3.37, 3.37, 3.37, 3.37, 3.37, 3.37, 3.37, 3....</td>\n",
       "      <td>(np.int32(19), np.int32(0))\\t1.0\\n  (np.int3...</td>\n",
       "      <td>(np.int32(84), np.int32(0))\\t1.0\\n  (np.int3...</td>\n",
       "      <td>True</td>\n",
       "      <td>422</td>\n",
       "      <td>411</td>\n",
       "      <td>411</td>\n",
       "      <td>911</td>\n",
       "      <td>[0, 0, -70]</td>\n",
       "    </tr>\n",
       "    <tr>\n",
       "      <th>3</th>\n",
       "      <td>736302.569056</td>\n",
       "      <td>2015-12-04 13:39:26</td>\n",
       "      <td>21</td>\n",
       "      <td>[495]</td>\n",
       "      <td>995</td>\n",
       "      <td>1015</td>\n",
       "      <td>JenkinsC</td>\n",
       "      <td>[766432, 766433, 766434, 766435, 766436, 76643...</td>\n",
       "      <td>[2, 2, 2, 2, 2, 2, 2, 2, 2, 2, 2, 2, 2, 2, 2, ...</td>\n",
       "      <td>[[-2.35, -2.35, -2.35, -2.35, -2.35, -2.35, -2...</td>\n",
       "      <td>(np.int32(19), np.int32(0))\\t1.0\\n  (np.int3...</td>\n",
       "      <td>(np.int32(18), np.int32(0))\\t1.0\\n  (np.int3...</td>\n",
       "      <td>True</td>\n",
       "      <td>423</td>\n",
       "      <td>495</td>\n",
       "      <td>495</td>\n",
       "      <td>995</td>\n",
       "      <td>[-84.85000000000001, -84.85000000000001, -70.0]</td>\n",
       "    </tr>\n",
       "    <tr>\n",
       "      <th>4</th>\n",
       "      <td>736302.569068</td>\n",
       "      <td>2015-12-04 13:39:27</td>\n",
       "      <td>21</td>\n",
       "      <td>[361]</td>\n",
       "      <td>861</td>\n",
       "      <td>881</td>\n",
       "      <td>JenkinsC</td>\n",
       "      <td>[767466, 767467, 767468, 767469, 767470, 76747...</td>\n",
       "      <td>[2, 2, 2, 2, 2, 2, 2, 2, 2, 2, 2, 2, 2, 2, 2, ...</td>\n",
       "      <td>[[-85.83, -85.83, -85.83, -85.83, -85.83, -85....</td>\n",
       "      <td>(np.int32(60), np.int32(0))\\t1.0\\n  (np.int3...</td>\n",
       "      <td>(np.int32(4), np.int32(0))\\t1.0\\n  (np.int32...</td>\n",
       "      <td>True</td>\n",
       "      <td>424</td>\n",
       "      <td>361</td>\n",
       "      <td>361</td>\n",
       "      <td>861</td>\n",
       "      <td>[0, 0, -70]</td>\n",
       "    </tr>\n",
       "  </tbody>\n",
       "</table>\n",
       "</div>"
      ],
      "text/plain": [
       "    startDateNum         startDateStr  timeTargetOn timeTargetAcquire  \\\n",
       "0  736302.569023  2015-12-04 13:39:23            21             [362]   \n",
       "1  736302.569033  2015-12-04 13:39:24            21             [478]   \n",
       "2  736302.569045  2015-12-04 13:39:25            21             [411]   \n",
       "3  736302.569056  2015-12-04 13:39:26            21             [495]   \n",
       "4  736302.569068  2015-12-04 13:39:27            21             [361]   \n",
       "\n",
       "   timeTargetHeld  timeTrialEnd   subject  \\\n",
       "0             862           882  JenkinsC   \n",
       "1             978           998  JenkinsC   \n",
       "2             911           931  JenkinsC   \n",
       "3             995          1015  JenkinsC   \n",
       "4             861           881  JenkinsC   \n",
       "\n",
       "                                             counter  \\\n",
       "0  [763564, 763565, 763566, 763567, 763568, 76356...   \n",
       "1  [764465, 764466, 764467, 764468, 764469, 76447...   \n",
       "2  [765482, 765483, 765484, 765485, 765486, 76548...   \n",
       "3  [766432, 766433, 766434, 766435, 766436, 76643...   \n",
       "4  [767466, 767467, 767468, 767469, 767470, 76747...   \n",
       "\n",
       "                                               state  \\\n",
       "0  [2, 2, 2, 2, 2, 2, 2, 2, 2, 2, 2, 2, 2, 2, 2, ...   \n",
       "1  [2, 2, 2, 2, 2, 2, 2, 2, 2, 2, 2, 2, 2, 2, 2, ...   \n",
       "2  [2, 2, 2, 2, 2, 2, 2, 2, 2, 2, 2, 2, 2, 2, 2, ...   \n",
       "3  [2, 2, 2, 2, 2, 2, 2, 2, 2, 2, 2, 2, 2, 2, 2, ...   \n",
       "4  [2, 2, 2, 2, 2, 2, 2, 2, 2, 2, 2, 2, 2, 2, 2, ...   \n",
       "\n",
       "                                           cursorPos  \\\n",
       "0  [[81.97, 81.97, 81.97, 81.97, 81.97, 81.97, 81...   \n",
       "1  [[1.73, 1.73, 1.73, 1.73, 1.73, 1.73, 1.73, 1....   \n",
       "2  [[3.37, 3.37, 3.37, 3.37, 3.37, 3.37, 3.37, 3....   \n",
       "3  [[-2.35, -2.35, -2.35, -2.35, -2.35, -2.35, -2...   \n",
       "4  [[-85.83, -85.83, -85.83, -85.83, -85.83, -85....   \n",
       "\n",
       "                                         spikeRaster  \\\n",
       "0    (np.int32(67), np.int32(0))\\t1.0\\n  (np.int3...   \n",
       "1    (np.int32(39), np.int32(0))\\t1.0\\n  (np.int3...   \n",
       "2    (np.int32(19), np.int32(0))\\t1.0\\n  (np.int3...   \n",
       "3    (np.int32(19), np.int32(0))\\t1.0\\n  (np.int3...   \n",
       "4    (np.int32(60), np.int32(0))\\t1.0\\n  (np.int3...   \n",
       "\n",
       "                                        spikeRaster2  isSuccessful  trialNum  \\\n",
       "0    (np.int32(49), np.int32(0))\\t1.0\\n  (np.int3...          True       420   \n",
       "1    (np.int32(19), np.int32(0))\\t1.0\\n  (np.int3...          True       421   \n",
       "2    (np.int32(84), np.int32(0))\\t1.0\\n  (np.int3...          True       422   \n",
       "3    (np.int32(18), np.int32(0))\\t1.0\\n  (np.int3...          True       423   \n",
       "4    (np.int32(4), np.int32(0))\\t1.0\\n  (np.int32...          True       424   \n",
       "\n",
       "   timeFirstTargetAcquire  timeLastTargetAcquire  trialLength  \\\n",
       "0                     362                    362          862   \n",
       "1                     478                    478          978   \n",
       "2                     411                    411          911   \n",
       "3                     495                    495          995   \n",
       "4                     361                    361          861   \n",
       "\n",
       "                                            target  \n",
       "0                                      [0, 0, -70]  \n",
       "1                                   [0, -120, -70]  \n",
       "2                                      [0, 0, -70]  \n",
       "3  [-84.85000000000001, -84.85000000000001, -70.0]  \n",
       "4                                      [0, 0, -70]  "
      ]
     },
     "execution_count": 144,
     "metadata": {},
     "output_type": "execute_result"
    }
   ],
   "source": [
    "df.head()"
   ]
  },
  {
   "cell_type": "markdown",
   "metadata": {},
   "source": [
    "### Trial Information"
   ]
  },
  {
   "cell_type": "code",
   "execution_count": 145,
   "metadata": {},
   "outputs": [
    {
     "data": {
      "text/plain": [
       "startDateNum              float64\n",
       "startDateStr               object\n",
       "timeTargetOn                int64\n",
       "timeTargetAcquire          object\n",
       "timeTargetHeld              int64\n",
       "timeTrialEnd                int64\n",
       "subject                    object\n",
       "counter                    object\n",
       "state                      object\n",
       "cursorPos                  object\n",
       "spikeRaster                object\n",
       "spikeRaster2               object\n",
       "isSuccessful                 bool\n",
       "trialNum                    int64\n",
       "timeFirstTargetAcquire      int64\n",
       "timeLastTargetAcquire       int64\n",
       "trialLength                 int64\n",
       "target                     object\n",
       "dtype: object"
      ]
     },
     "execution_count": 145,
     "metadata": {},
     "output_type": "execute_result"
    }
   ],
   "source": [
    "df.dtypes"
   ]
  },
  {
   "cell_type": "markdown",
   "metadata": {},
   "source": [
    "Each element in the `R`-struct is a *trial*. `df[i]` represents the `i`th trial. A trial corresponds to a monkey being shown a target, then subsequently reaching for that target (note that there are no prepatory periods for the monkey to plan to reach, the monkey just reachest). In this dataset, the monkey contiguously makes $506$ reaches without pausing."
   ]
  },
  {
   "cell_type": "code",
   "execution_count": 146,
   "metadata": {},
   "outputs": [
    {
     "data": {
      "text/plain": [
       "startDateNum                                                  736302.569023\n",
       "startDateStr                                            2015-12-04 13:39:23\n",
       "timeTargetOn                                                             21\n",
       "timeTargetAcquire                                                     [362]\n",
       "timeTargetHeld                                                          862\n",
       "timeTrialEnd                                                            882\n",
       "subject                                                            JenkinsC\n",
       "counter                   [763564, 763565, 763566, 763567, 763568, 76356...\n",
       "state                     [2, 2, 2, 2, 2, 2, 2, 2, 2, 2, 2, 2, 2, 2, 2, ...\n",
       "cursorPos                 [[81.97, 81.97, 81.97, 81.97, 81.97, 81.97, 81...\n",
       "spikeRaster                 (np.int32(67), np.int32(0))\\t1.0\\n  (np.int3...\n",
       "spikeRaster2                (np.int32(49), np.int32(0))\\t1.0\\n  (np.int3...\n",
       "isSuccessful                                                           True\n",
       "trialNum                                                                420\n",
       "timeFirstTargetAcquire                                                  362\n",
       "timeLastTargetAcquire                                                   362\n",
       "trialLength                                                             862\n",
       "target                                                          [0, 0, -70]\n",
       "Name: 0, dtype: object"
      ]
     },
     "execution_count": 146,
     "metadata": {},
     "output_type": "execute_result"
    }
   ],
   "source": [
    "df.iloc[0]"
   ]
  },
  {
   "cell_type": "code",
   "execution_count": 147,
   "metadata": {},
   "outputs": [
    {
     "name": "stdout",
     "output_type": "stream",
     "text": [
      "0       [0, 0, -70]\n",
      "1    [0, -120, -70]\n",
      "Name: target, dtype: object\n"
     ]
    }
   ],
   "source": [
    "print(df[\"target\"].iloc[[0, 1]])"
   ]
  },
  {
   "cell_type": "markdown",
   "metadata": {},
   "source": [
    "We see that in trial 1, the monkey's target was $(0,0,-70)$, and in trial 2 it was $(0, -120, -70)$. In this experiment we ignore the $z$-positions adn they'll all be $-70$, so we can ignore this information. All units are in millimeters."
   ]
  },
  {
   "cell_type": "code",
   "execution_count": 148,
   "metadata": {},
   "outputs": [],
   "source": [
    "df[\"target\"] = df[\"target\"].apply(lambda x: x[:2])\n",
    "df[[\"target_x\", \"target_y\"]] = df[\"target\"].apply(pd.Series)  # Split target into two columns x,y"
   ]
  },
  {
   "cell_type": "markdown",
   "metadata": {},
   "source": [
    "It turns out that in this experiment, the monkey was doing a \"center-out-and-back\" task, where the monkey acquires a center target, then reachest out to a radial target (on a circle with radius $12$ cm$), then back to the center target, then out to another radial target, etc. \n",
    "\n",
    "Let's plot all target locations."
   ]
  },
  {
   "cell_type": "code",
   "execution_count": 149,
   "metadata": {},
   "outputs": [
    {
     "data": {
      "image/png": "[encoded data removed]",
      "text/plain": [
       "<Figure size 640x480 with 1 Axes>"
      ]
     },
     "metadata": {},
     "output_type": "display_data"
    }
   ],
   "source": [
    "plt.figure()\n",
    "plt.xlabel(\"x-position (mm)\")\n",
    "plt.ylabel(\"y-position (mm)\")\n",
    "\n",
    "# Plot all targets\n",
    "plt.scatter(df[\"target_x\"], df[\"target_y\"], marker=\"o\")\n",
    "\n",
    "plt.show()"
   ]
  },
  {
   "cell_type": "markdown",
   "metadata": {},
   "source": [
    "The `isSuccessful` field is a boolean that also tells us if a trial was succesful. We'd only want to train on trials that were successful, since if the monkey wasn't successful, he may not have been paying attention. We can claculate how many trials were successful, or filter to only maintain successful trials.\n",
    "\n",
    "Note that in this specific dataset, all trials were successful."
   ]
  },
  {
   "cell_type": "code",
   "execution_count": 150,
   "metadata": {},
   "outputs": [
    {
     "data": {
      "text/plain": [
       "(506, 20)"
      ]
     },
     "execution_count": 150,
     "metadata": {},
     "output_type": "execute_result"
    }
   ],
   "source": [
    "df = df[df[\"isSuccessful\"]]\n",
    "df.shape"
   ]
  },
  {
   "cell_type": "markdown",
   "metadata": {},
   "source": [
    "### MS-Level Information\n",
    "We also need to konw the kinematics and neural data at every single point in time. Our dataset also has this information."
   ]
  },
  {
   "cell_type": "markdown",
   "metadata": {},
   "source": [
    "`df.iloc[i][\"cursorPos\"]` is a $3\\times T_i$ matrix that contains the monkeys hand positions over time on trial $i$, where $T_i$ is the length of trial $i$ in milliseconds. The first row is the $x$-position, and second is $y$-position. The third row is $z$-position (which, recall, we set to $-70$ mm by default). All units are in millimeters, and each column represents one millisecond."
   ]
  },
  {
   "cell_type": "code",
   "execution_count": null,
   "metadata": {},
   "outputs": [],
   "source": []
  },
  {
   "cell_type": "code",
   "execution_count": 153,
   "metadata": {},
   "outputs": [
    {
     "data": {
      "text/plain": [
       "[array([[81.97, 81.97, 81.97, ...,  1.73,  1.73,  1.73],\n",
       "        [89.79, 89.79, 89.79, ...,  0.66,  0.66,  0.66]])]"
      ]
     },
     "execution_count": 153,
     "metadata": {},
     "output_type": "execute_result"
    }
   ],
   "source": [
    "df[\"cursorPos\"] = df[\"cursorPos\"].apply(lambda x: [x[:2]])\n",
    "\n",
    "df.iloc[0][\"cursorPos\"]"
   ]
  },
  {
   "cell_type": "code",
   "execution_count": null,
   "metadata": {},
   "outputs": [],
   "source": []
  }
 ],
 "metadata": {
  "kernelspec": {
   "display_name": "signals",
   "language": "python",
   "name": "python3"
  },
  "language_info": {
   "codemirror_mode": {
    "name": "ipython",
    "version": 3
   },
   "file_extension": ".py",
   "mimetype": "text/x-python",
   "name": "python",
   "nbconvert_exporter": "python",
   "pygments_lexer": "ipython3",
   "version": "3.9.20"
  }
 },
 "nbformat": 4,
 "nbformat_minor": 2
}
